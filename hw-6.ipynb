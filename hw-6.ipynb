{
 "cells": [
  {
   "cell_type": "code",
   "execution_count": 7,
   "metadata": {},
   "outputs": [],
   "source": [
    "%matplotlib inline\n",
    "import matplotlib.pyplot as plt\n",
    "import numpy as np"
   ]
  },
  {
   "cell_type": "code",
   "execution_count": 8,
   "metadata": {},
   "outputs": [],
   "source": [
    "def dydx(x , y):\n",
    "    \n",
    "    y_derivs = np.zeros(2)\n",
    "    \n",
    "    y_derivs[0] = y[1]\n",
    "    y_derivs[1] = -1 * y[0]\n",
    "\n",
    "    return y_derivs"
   ]
  },
  {
   "cell_type": "code",
   "execution_count": 9,
   "metadata": {},
   "outputs": [],
   "source": [
    "def cash_karp_core(dydx, xi, yi, nv, h):\n",
    "    \n",
    "    c = [0 , 0 , 1/5 , 3/10 , 3/5 , 1 , 7/8]\n",
    "    \n",
    "    a2 = [0 , 1/5]\n",
    "    a3 = [0 , 3/40 , 9/40]\n",
    "    a4 = [0 , 3/10 , -9/10 , 6/5]\n",
    "    a5 = [0 , -11/54 , 5/2 , -70/27 , 35/27]\n",
    "    a6 = [0 , 1631/55296 , 175/512 , 575/13824 , 44275/110592 , 253/4096]\n",
    "    \n",
    "    k_1 = h * dydx(xi          , yi)\n",
    "    k_2 = h * dydx(xi + c[2]*h , yi + a2[1]*k_1)\n",
    "    k_3 = h * dydx(xi + c[3]*h , yi + a3[1]*k_1 + a3[2]*k_2)\n",
    "    k_4 = h * dydx(xi + c[4]*h , yi + a4[1]*k_1 + a4[2]*k_2 + a4[3]*k_3)\n",
    "    k_5 = h * dydx(xi + c[5]*h , yi + a5[1]*k_1 + a5[2]*k_2 + a5[3]*k_3 + a5[4]*k_4)\n",
    "    k_6 = h * dydx(xi + c[6]*h , yi + a6[1]*k_1 + a6[2]*k_2 + a6[3]*k_3 + a6[4]*k_4 + a6[5]*k_5)\n",
    "    \n",
    "    b = [0 , 37/378 , 0 , 250/621 , 125/594 , 0 , 512/1771]\n",
    "    bs = [0, 2825/27648 , 0 , 18575/48384 , 13525/55296 , 277/14336 , 1/4]\n",
    "    \n",
    "    y_ipo = yi + b[1]*k_1 + b[2]*k_2 + b[3]*k_3 + b[4]*k_4 + b[5]*k_5 + b[6]*k_6\n",
    "    ys_ipo = yi + bs[1]*k_1 + bs[2]*k_2 + bs[3]*k_3 + bs[4]*k_4 + bs[5]*k_5 + bs[6]*k_6\n",
    "    \n",
    "    dx = y_ipo - ys_ipo\n",
    "    \n",
    "    y_ipo = dx + ys_ipo\n",
    "    \n",
    "    return y_ipo"
   ]
  },
  {
   "cell_type": "code",
   "execution_count": 10,
   "metadata": {},
   "outputs": [],
   "source": [
    "def cash_karp_ad(dydx, x_i, y_i, nv, h, tol):\n",
    "    \n",
    "    SAFETY = 0.9\n",
    "    H_NEW_FAC = 2.0\n",
    "    \n",
    "    imax = 10000\n",
    "    i = 0\n",
    "    \n",
    "    Delta = np.full(nv , 2*tol)\n",
    "    \n",
    "    h_step = h\n",
    "    \n",
    "    while(Delta.max()/tol > 1.0):\n",
    "        \n",
    "        y_2 = cash_karp_core(dydx , x_i , y_i , nv , h_step)\n",
    "        y_1 = cash_karp_core(dydx , x_i , y_i , nv , 0.5*h_step)\n",
    "        y_11 = cash_karp_core(dydx , x_i + 0.5*h_step , y_1 , nv , 0.5*h_step)\n",
    "        \n",
    "        Delta = np.fabs(y_2 - y_11)\n",
    "        \n",
    "        if(Delta.max()/tol > 1.0):\n",
    "            \n",
    "            h_step *= SAFETY * (Delta.max()/tol)**(-0.25)\n",
    "            \n",
    "        if(i>=imax):\n",
    "            print(\"Too many iterations in cash_karp_ad().\")\n",
    "            raise StopIteration(\"Ending after i = \" , i)\n",
    "            \n",
    "        i += 1\n",
    "        \n",
    "    h_new = np.fmin(h_step * (Delta.max()/tol)**(-0.9) , h_step * H_NEW_FAC)\n",
    "    \n",
    "    return y_2 , h_new, h_step"
   ]
  },
  {
   "cell_type": "code",
   "execution_count": 11,
   "metadata": {},
   "outputs": [],
   "source": [
    "def cash_karp(dydx , a , b , y_a , tol):\n",
    "    \n",
    "    xi = a\n",
    "    \n",
    "    yi = y_a.copy()\n",
    "    \n",
    "    h = 1.0e-4 * (b-a)\n",
    "    \n",
    "    imax = 10000\n",
    "    i = 0\n",
    "    \n",
    "    nv = len(y_a)\n",
    "    \n",
    "    x = np.full(1 , a)\n",
    "    \n",
    "    y = np.full( (1, nv) , y_a)\n",
    "    \n",
    "    flag = 1\n",
    "    \n",
    "    while(flag):\n",
    "        \n",
    "        yi_new , h_new , h_step = cash_karp_ad(dydx, xi, yi, nv, h, tol)\n",
    "        \n",
    "        h = h_new\n",
    "        \n",
    "        if(xi + h_step > b):\n",
    "            \n",
    "            h = b - xi\n",
    "            \n",
    "            yi_new, h_new, h_step = cash_karp_ad(dydx, xi, yi, nv, h, tol)\n",
    "            \n",
    "            flag = 0\n",
    "            \n",
    "        xi += h_step\n",
    "        \n",
    "        yi = yi_new\n",
    "        \n",
    "        x = np.append(x, xi)\n",
    "        \n",
    "        y_new = np.zeros( (len(x), nv) )\n",
    "        \n",
    "        y_new[0:len(x) - 1 , :] = y\n",
    "        \n",
    "        y_new[-1 , :] = yi[:]\n",
    "        \n",
    "        del y\n",
    "        \n",
    "        y = y_new\n",
    "        \n",
    "        if(i>=imax):\n",
    "            print(\"Too many iterations in rk4_mv().\")\n",
    "            raise StopIteration(\"Ending after i = \", i)\n",
    "            \n",
    "        i += 1\n",
    "        \n",
    "        s = \"i = %3d\\tx = %9.8f\\th = %9.8f\\tb = %9.8f\" % (i, xi, h_step, b)\n",
    "        print(s)\n",
    "        \n",
    "        if(xi==b):\n",
    "            flag = 0\n",
    "            \n",
    "    return x,y"
   ]
  },
  {
   "cell_type": "code",
   "execution_count": 12,
   "metadata": {},
   "outputs": [
    {
     "name": "stdout",
     "output_type": "stream",
     "text": [
      "i =   1\tx = 0.00062832\th = 0.00062832\tb = 6.28318531\n",
      "i =   2\tx = 0.00188496\th = 0.00125664\tb = 6.28318531\n",
      "i =   3\tx = 0.00439823\th = 0.00251327\tb = 6.28318531\n",
      "i =   4\tx = 0.00942478\th = 0.00502655\tb = 6.28318531\n",
      "i =   5\tx = 0.01947787\th = 0.01005310\tb = 6.28318531\n",
      "i =   6\tx = 0.03958407\th = 0.02010619\tb = 6.28318531\n",
      "i =   7\tx = 0.07979645\th = 0.04021239\tb = 6.28318531\n",
      "i =   8\tx = 0.16022123\th = 0.08042477\tb = 6.28318531\n",
      "i =   9\tx = 0.32107077\th = 0.16084954\tb = 6.28318531\n",
      "i =  10\tx = 0.64276986\th = 0.32169909\tb = 6.28318531\n",
      "i =  11\tx = 0.95166461\th = 0.30889476\tb = 6.28318531\n",
      "i =  12\tx = 1.26805818\th = 0.31639356\tb = 6.28318531\n",
      "i =  13\tx = 1.58812907\th = 0.32007089\tb = 6.28318531\n",
      "i =  14\tx = 1.92439441\th = 0.33626534\tb = 6.28318531\n",
      "i =  15\tx = 2.23091949\th = 0.30652508\tb = 6.28318531\n",
      "i =  16\tx = 2.54903350\th = 0.31811400\tb = 6.28318531\n",
      "i =  17\tx = 2.86042607\th = 0.31139258\tb = 6.28318531\n",
      "i =  18\tx = 3.18409468\th = 0.32366861\tb = 6.28318531\n",
      "i =  19\tx = 3.51559780\th = 0.33150312\tb = 6.28318531\n",
      "i =  20\tx = 3.82438660\th = 0.30878880\tb = 6.28318531\n",
      "i =  21\tx = 4.14079248\th = 0.31640588\tb = 6.28318531\n",
      "i =  22\tx = 4.45346361\th = 0.31267113\tb = 6.28318531\n",
      "i =  23\tx = 4.77740094\th = 0.32393733\tb = 6.28318531\n",
      "i =  24\tx = 5.10702381\th = 0.32962288\tb = 6.28318531\n",
      "i =  25\tx = 5.41632475\th = 0.30930094\tb = 6.28318531\n",
      "i =  26\tx = 5.73220464\th = 0.31587989\tb = 6.28318531\n",
      "i =  27\tx = 6.04551371\th = 0.31330907\tb = 6.28318531\n",
      "i =  28\tx = 6.28318531\th = 0.23767160\tb = 6.28318531\n"
     ]
    }
   ],
   "source": [
    "a = 0.0\n",
    "b = 2.0 * np.pi\n",
    "\n",
    "y_0 = np.zeros(2)\n",
    "y_0[0] = 0.0\n",
    "y_0[1] = 1.0\n",
    "\n",
    "nv = 2\n",
    "\n",
    "tolerance = 1.0e-6\n",
    "\n",
    "x, y = cash_karp(dydx , a , b , y_0 , tolerance)"
   ]
  },
  {
   "cell_type": "code",
   "execution_count": 13,
   "metadata": {},
   "outputs": [
    {
     "data": {
      "text/plain": [
       "<matplotlib.legend.Legend at 0x1d0b2690a30>"
      ]
     },
     "execution_count": 13,
     "metadata": {},
     "output_type": "execute_result"
    },
    {
     "data": {
      "image/png": "[encoded data removed]",
      "text/plain": [
       "<Figure size 432x288 with 1 Axes>"
      ]
     },
     "metadata": {
      "needs_background": "light"
     },
     "output_type": "display_data"
    }
   ],
   "source": [
    "plt.plot(x, y[:,0], 'o', label='y(x)')\n",
    "plt.plot(x, y[:,1], 'o', label='dydx(x)')\n",
    "\n",
    "xx = np.linspace(0, 2.0 * np.pi, 1000)\n",
    "\n",
    "plt.plot(xx, np.sin(xx), label='sin(x)')\n",
    "plt.plot(xx, np.cos(xx), label='cos(x)')\n",
    "plt.xlabel('x')\n",
    "plt.ylabel('y, dydx')\n",
    "plt.legend(frameon=False)"
   ]
  },
  {
   "cell_type": "code",
   "execution_count": 14,
   "metadata": {},
   "outputs": [
    {
     "data": {
      "text/plain": [
       "<matplotlib.legend.Legend at 0x1d0e4b436a0>"
      ]
     },
     "execution_count": 14,
     "metadata": {},
     "output_type": "execute_result"
    },
    {
     "data": {
      "image/png": "[encoded data removed]",
      "text/plain": [
       "<Figure size 432x288 with 1 Axes>"
      ]
     },
     "metadata": {
      "needs_background": "light"
     },
     "output_type": "display_data"
    }
   ],
   "source": [
    "sine = np.sin(x)\n",
    "cosine = np.cos(x)\n",
    "\n",
    "y_error = (y[:,0] - sine)\n",
    "dydx_error = (y[:,1] - cosine)\n",
    "\n",
    "plt.plot(x, y_error, label='y(x) Error')\n",
    "plt.plot(x, dydx_error, label='dydx(x) Error')\n",
    "plt.legend(frameon = False)"
   ]
  },
  {
   "cell_type": "code",
   "execution_count": null,
   "metadata": {},
   "outputs": [],
   "source": []
  }
 ],
 "metadata": {
  "kernelspec": {
   "display_name": "Python 3",
   "language": "python",
   "name": "python3"
  },
  "language_info": {
   "codemirror_mode": {
    "name": "ipython",
    "version": 3
   },
   "file_extension": ".py",
   "mimetype": "text/x-python",
   "name": "python",
   "nbconvert_exporter": "python",
   "pygments_lexer": "ipython3",
   "version": "3.8.6"
  }
 },
 "nbformat": 4,
 "nbformat_minor": 4
}
